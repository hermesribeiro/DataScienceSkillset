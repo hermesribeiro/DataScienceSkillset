{
 "cells": [
  {
   "cell_type": "markdown",
   "metadata": {},
   "source": [
    "# Shelter Animal Outcome\n",
    "Working on the dataset from the [kaggle competition](https://www.kaggle.com/c/shelter-animal-outcomes).\n",
    "\n",
    "In this notebook we make an exploratory data analisys (EDA) and a naive bayes regression on the dataset."
   ]
  },
  {
   "cell_type": "code",
   "execution_count": 2,
   "metadata": {
    "collapsed": true
   },
   "outputs": [],
   "source": [
    "import numpy as np\n",
    "import pandas as pd\n",
    "from sklearn.decomposition import PCA\n",
    "import matplotlib.pyplot as plt\n",
    "%matplotlib inline\n",
    "np.set_printoptions(precision=6,suppress=True)"
   ]
  },
  {
   "cell_type": "code",
   "execution_count": 3,
   "metadata": {
    "collapsed": true
   },
   "outputs": [],
   "source": [
    "df = pd.read_csv('animal_train.csv')"
   ]
  },
  {
   "cell_type": "markdown",
   "metadata": {},
   "source": [
    "## EDA"
   ]
  },
  {
   "cell_type": "markdown",
   "metadata": {},
   "source": [
    "Understanding the dataset"
   ]
  },
  {
   "cell_type": "code",
   "execution_count": 4,
   "metadata": {},
   "outputs": [
    {
     "data": {
      "text/plain": [
       "(26729, 10)"
      ]
     },
     "execution_count": 4,
     "metadata": {},
     "output_type": "execute_result"
    }
   ],
   "source": [
    "df.shape"
   ]
  },
  {
   "cell_type": "code",
   "execution_count": 5,
   "metadata": {},
   "outputs": [
    {
     "name": "stdout",
     "output_type": "stream",
     "text": [
      "Index(['AnimalID', 'Name', 'DateTime', 'OutcomeType', 'OutcomeSubtype',\n",
      "       'AnimalType', 'SexuponOutcome', 'AgeuponOutcome', 'Breed', 'Color'],\n",
      "      dtype='object')\n"
     ]
    }
   ],
   "source": [
    "print(df.columns)"
   ]
  },
  {
   "cell_type": "code",
   "execution_count": 6,
   "metadata": {
    "scrolled": false
   },
   "outputs": [
    {
     "name": "stdout",
     "output_type": "stream",
     "text": [
      "Outcome type  ['Return_to_owner' 'Euthanasia' 'Adoption' 'Transfer' 'Died']\n",
      "Outcome subtype [nan 'Suffering' 'Foster' 'Partner' 'Offsite' 'SCRP' 'Aggressive'\n",
      " 'Behavior' 'Rabies Risk' 'Medical' 'In Kennel' 'In Foster' 'Barn'\n",
      " 'Court/Investigation' 'Enroute' 'At Vet' 'In Surgery']\n",
      "Animal Type ['Dog' 'Cat']\n",
      "Sex upon outcome ['Neutered Male' 'Spayed Female' 'Intact Male' 'Intact Female' 'Unknown'\n",
      " nan]\n",
      "Breed 1380\n",
      "Color 366\n"
     ]
    }
   ],
   "source": [
    "print(\"Outcome type \",pd.unique(df.OutcomeType))\n",
    "print(\"Outcome subtype\",pd.unique(df.OutcomeSubtype))\n",
    "print(\"Animal Type\",pd.unique(df.AnimalType))\n",
    "print(\"Sex upon outcome\",pd.unique(df.SexuponOutcome))\n",
    "print(\"Breed\",len(pd.unique(df.Breed)))\n",
    "print(\"Color\",len(pd.unique(df.Color)))"
   ]
  },
  {
   "cell_type": "markdown",
   "metadata": {},
   "source": [
    "Dealing with time variables"
   ]
  },
  {
   "cell_type": "code",
   "execution_count": 7,
   "metadata": {},
   "outputs": [
    {
     "name": "stdout",
     "output_type": "stream",
     "text": [
      "Min DateTime =  2013-10-01 09:31:00\n",
      "Median DateTime =  2014-12-13 17:10:00\n",
      "Max DateTime =  2016-02-21 19:17:00\n"
     ]
    }
   ],
   "source": [
    "df.DateTime = pd.to_datetime(df.DateTime)\n",
    "print(\"Min DateTime = \", np.min(df.DateTime))\n",
    "print(\"Median DateTime = \", pd.to_datetime(np.median(pd.to_numeric(df.DateTime))))\n",
    "print(\"Max DateTime = \", np.max(df.DateTime))"
   ]
  },
  {
   "cell_type": "code",
   "execution_count": 8,
   "metadata": {
    "collapsed": true
   },
   "outputs": [],
   "source": [
    "# I've been trying to avoid inserting data, but this one turns out necessary\n",
    "df['Day'] = pd.DatetimeIndex(df['DateTime']).day\n",
    "df['Month'] = pd.DatetimeIndex(df['DateTime']).month\n",
    "df['Year'] = pd.DatetimeIndex(df['DateTime']).year\n",
    "df['Weekday'] = pd.DatetimeIndex(df['DateTime']).weekday"
   ]
  },
  {
   "cell_type": "markdown",
   "metadata": {},
   "source": [
    "Determining the dog/cat ratio\n"
   ]
  },
  {
   "cell_type": "code",
   "execution_count": 9,
   "metadata": {},
   "outputs": [
    {
     "name": "stdout",
     "output_type": "stream",
     "text": [
      "Number of cats =  11134 - 41.65513113098133 %\n",
      "Number of dogs =  15595 - 58.344868869018676 %\n"
     ]
    }
   ],
   "source": [
    "print(\"Number of cats = \",len(df.AnimalType[df.AnimalType=='Cat']), \"-\",\n",
    "      len(df.AnimalType[df.AnimalType=='Cat'])/len(df.AnimalType)*100,\"%\")\n",
    "print(\"Number of dogs = \",len(df.AnimalType[df.AnimalType=='Dog']), \"-\",\n",
    "     len(df.AnimalType[df.AnimalType=='Dog'])/len(df.AnimalType)*100,\"%\")"
   ]
  },
  {
   "cell_type": "markdown",
   "metadata": {},
   "source": [
    "Checking and dealing with missing values"
   ]
  },
  {
   "cell_type": "code",
   "execution_count": 10,
   "metadata": {},
   "outputs": [
    {
     "name": "stdout",
     "output_type": "stream",
     "text": [
      "AnimalID False 0\n",
      "Name True 7691\n",
      "DateTime False 0\n",
      "OutcomeType False 0\n",
      "OutcomeSubtype True 13612\n",
      "AnimalType False 0\n",
      "SexuponOutcome True 1\n",
      "AgeuponOutcome True 18\n",
      "Breed False 0\n",
      "Color False 0\n",
      "Day False 0\n",
      "Month False 0\n",
      "Year False 0\n",
      "Weekday False 0\n"
     ]
    }
   ],
   "source": [
    "for label in df.columns:\n",
    "    print(label,True in np.array(pd.isnull(df[label])), len(df[label][pd.isnull(df[label])]))"
   ]
  },
  {
   "cell_type": "code",
   "execution_count": 11,
   "metadata": {
    "collapsed": true
   },
   "outputs": [],
   "source": [
    "df.Name = df.Name.fillna('Unknown')\n",
    "df.OutcomeSubtype = df.OutcomeSubtype.fillna('Unknown')\n",
    "df.SexuponOutcome = df.SexuponOutcome.fillna('Unknown')\n",
    "# Since it is not a representative number, we will just assume that they are newborn\n",
    "df.AgeuponOutcome = df.AgeuponOutcome.fillna('0 days')"
   ]
  },
  {
   "cell_type": "markdown",
   "metadata": {},
   "source": [
    "Categories to categorical values"
   ]
  },
  {
   "cell_type": "code",
   "execution_count": 12,
   "metadata": {},
   "outputs": [
    {
     "name": "stdout",
     "output_type": "stream",
     "text": [
      "{0: 'Adoption', 1: 'Died', 2: 'Euthanasia', 3: 'Return_to_owner', 4: 'Transfer'}\n",
      "{0: 'Aggressive', 1: 'At Vet', 2: 'Barn', 3: 'Behavior', 4: 'Court/Investigation', 5: 'Enroute', 6: 'Foster', 7: 'In Foster', 8: 'In Kennel', 9: 'In Surgery', 10: 'Medical', 11: 'Offsite', 12: 'Partner', 13: 'Rabies Risk', 14: 'SCRP', 15: 'Suffering', 16: 'Unknown'}\n",
      "{0: 'Cat', 1: 'Dog'}\n",
      "{0: 'Intact Female', 1: 'Intact Male', 2: 'Neutered Male', 3: 'Spayed Female', 4: 'Unknown'}\n"
     ]
    }
   ],
   "source": [
    "df.OutcomeType = df.OutcomeType.astype('category')\n",
    "df.OutcomeSubtype = df.OutcomeSubtype.astype('category')\n",
    "df.AnimalType = df.AnimalType.astype('category')\n",
    "df.SexuponOutcome = df.SexuponOutcome.astype('category')\n",
    "#df.Weekday = df.Weekday.astype('category')\n",
    "df.Breed = df.Breed.astype('category')\n",
    "df.Color = df.Color.astype('category')\n",
    "print(dict(enumerate(df.OutcomeType.cat.categories)))\n",
    "print(dict(enumerate(df.OutcomeSubtype.cat.categories)))\n",
    "print(dict(enumerate(df.AnimalType.cat.categories)))\n",
    "print(dict(enumerate(df.SexuponOutcome.cat.categories)))\n",
    "#print(dict(enumerate(df.Weekday.cat.categories)))"
   ]
  },
  {
   "cell_type": "code",
   "execution_count": 13,
   "metadata": {},
   "outputs": [
    {
     "name": "stdout",
     "output_type": "stream",
     "text": [
      "Breed\n",
      "Domestic Shorthair Mix       8810\n",
      "Pit Bull Mix                 1906\n",
      "Chihuahua Shorthair Mix      1766\n",
      "Labrador Retriever Mix       1363\n",
      "Domestic Medium Hair Mix      839\n",
      "German Shepherd Mix           575\n",
      "Domestic Longhair Mix         520\n",
      "Siamese Mix                   389\n",
      "Australian Cattle Dog Mix     367\n",
      "Dachshund Mix                 318\n",
      "Name: Breed, dtype: int64 \n",
      "\n",
      "Color\n",
      "Black/White          2824\n",
      "Black                2292\n",
      "Brown Tabby          1635\n",
      "Brown Tabby/White     940\n",
      "White                 931\n",
      "Brown/White           884\n",
      "Orange Tabby          841\n",
      "Tan/White             773\n",
      "Tricolor              752\n",
      "Blue/White            702\n",
      "Name: Color, dtype: int64\n"
     ]
    }
   ],
   "source": [
    "print(\"Breed\")\n",
    "print(df.Breed.value_counts().head(n=10),'\\n')\n",
    "print(\"Color\")\n",
    "print(df.Color.value_counts().head(n=10))"
   ]
  },
  {
   "cell_type": "markdown",
   "metadata": {},
   "source": [
    "### Time analisys"
   ]
  },
  {
   "cell_type": "code",
   "execution_count": 14,
   "metadata": {
    "collapsed": true
   },
   "outputs": [],
   "source": [
    "# Transforming age upon outcome to numeric (days) todo: make it using datetime time ranges\n",
    "temp = np.zeros(len(df))\n",
    "for idi in range(len(df)):\n",
    "    [a,b] = df.AgeuponOutcome[idi].split()\n",
    "    a = int(a)\n",
    "    if b == 'day' or b == 'days':\n",
    "        temp[idi] = a\n",
    "    elif b == 'week' or b == 'weeks':\n",
    "        temp[idi] = a*7\n",
    "    elif b == 'month' or b == 'months':\n",
    "        temp[idi] = a*30 # Yeah, for the sake of int, a month has 30 days\n",
    "    elif b == 'year' or b == 'years':\n",
    "        temp[idi] = a*365\n",
    "df.AgeuponOutcome = temp"
   ]
  },
  {
   "cell_type": "code",
   "execution_count": 15,
   "metadata": {},
   "outputs": [
    {
     "data": {
      "text/plain": [
       "DateTime\n",
       "2013-10-31     974\n",
       "2013-11-30     803\n",
       "2013-12-31     925\n",
       "2014-01-31     751\n",
       "2014-02-28     651\n",
       "2014-03-31     794\n",
       "2014-04-30     851\n",
       "2014-05-31     946\n",
       "2014-06-30    1059\n",
       "2014-07-31    1308\n",
       "2014-08-31    1106\n",
       "2014-09-30     998\n",
       "2014-10-31     939\n",
       "2014-11-30     866\n",
       "2014-12-31     910\n",
       "2015-01-31     760\n",
       "2015-02-28     678\n",
       "2015-03-31     704\n",
       "2015-04-30     838\n",
       "2015-05-31    1148\n",
       "2015-06-30    1260\n",
       "2015-07-31    1198\n",
       "2015-08-31    1066\n",
       "2015-09-30    1006\n",
       "2015-10-31     968\n",
       "2015-11-30     999\n",
       "2015-12-31     856\n",
       "2016-01-31     823\n",
       "2016-02-29     544\n",
       "Name: AgeuponOutcome, dtype: int64"
      ]
     },
     "execution_count": 15,
     "metadata": {},
     "output_type": "execute_result"
    }
   ],
   "source": [
    "gb = df.groupby([pd.Grouper(freq='M',key='DateTime')])\n",
    "gba = gb['AgeuponOutcome']\n",
    "gba.count()"
   ]
  },
  {
   "cell_type": "code",
   "execution_count": 16,
   "metadata": {},
   "outputs": [
    {
     "data": {
      "text/plain": [
       "Weekday\n",
       "0    3696\n",
       "1    3896\n",
       "2    3510\n",
       "3    3376\n",
       "4    3586\n",
       "5    4348\n",
       "6    4317\n",
       "Name: AnimalID, dtype: int64"
      ]
     },
     "execution_count": 16,
     "metadata": {},
     "output_type": "execute_result"
    }
   ],
   "source": [
    "gbw = df.groupby(['Weekday'])\n",
    "gbw['AnimalID'].count()"
   ]
  },
  {
   "cell_type": "markdown",
   "metadata": {},
   "source": [
    "## Data Visualization"
   ]
  },
  {
   "cell_type": "markdown",
   "metadata": {},
   "source": [
    "Daily event distribution"
   ]
  },
  {
   "cell_type": "code",
   "execution_count": 18,
   "metadata": {},
   "outputs": [
    {
     "data": {
      "text/plain": [
       "<matplotlib.axes._subplots.AxesSubplot at 0x186b1410e10>"
      ]
     },
     "execution_count": 18,
     "metadata": {},
     "output_type": "execute_result"
    },
    {
     "data": {
      "image/png": "[encoded data removed]",
      "text/plain": [
       "<matplotlib.figure.Figure at 0x186b14222e8>"
      ]
     },
     "metadata": {},
     "output_type": "display_data"
    }
   ],
   "source": [
    "df.groupby(pd.Grouper(freq='D',key='DateTime')).size().hist(bins=30)"
   ]
  },
  {
   "cell_type": "markdown",
   "metadata": {},
   "source": [
    "Weekday event distribution (starts on monday)"
   ]
  },
  {
   "cell_type": "code",
   "execution_count": 20,
   "metadata": {},
   "outputs": [
    {
     "data": {
      "text/plain": [
       "<matplotlib.axes._subplots.AxesSubplot at 0x186b13dd518>"
      ]
     },
     "execution_count": 20,
     "metadata": {},
     "output_type": "execute_result"
    },
    {
     "data": {
      "image/png": "[encoded data removed]",
      "text/plain": [
       "<matplotlib.figure.Figure at 0x186b1738be0>"
      ]
     },
     "metadata": {},
     "output_type": "display_data"
    }
   ],
   "source": [
    "df.groupby(['Weekday',pd.Grouper(freq='D',key='DateTime')]).size().unstack().transpose().boxplot(sym='')"
   ]
  },
  {
   "cell_type": "markdown",
   "metadata": {},
   "source": [
    "Monthly event distribution."
   ]
  },
  {
   "cell_type": "code",
   "execution_count": 22,
   "metadata": {},
   "outputs": [
    {
     "data": {
      "text/plain": [
       "<matplotlib.axes._subplots.AxesSubplot at 0x186b19bb198>"
      ]
     },
     "execution_count": 22,
     "metadata": {},
     "output_type": "execute_result"
    },
    {
     "data": {
      "image/png": "[encoded data removed]",
      "text/plain": [
       "<matplotlib.figure.Figure at 0x186b16b8eb8>"
      ]
     },
     "metadata": {},
     "output_type": "display_data"
    }
   ],
   "source": [
    "df.groupby(['Month',pd.Grouper(freq='M',key='DateTime')]).size().groupby('Month').mean().plot.bar()"
   ]
  },
  {
   "cell_type": "markdown",
   "metadata": {},
   "source": [
    "The months in the range of may-august presented the more adoptions. Summer, maybe? More outdoor fairs, more people going out?"
   ]
  },
  {
   "cell_type": "markdown",
   "metadata": {},
   "source": [
    "Monthday event distribution."
   ]
  },
  {
   "cell_type": "code",
   "execution_count": 24,
   "metadata": {},
   "outputs": [
    {
     "data": {
      "text/plain": [
       "<matplotlib.axes._subplots.AxesSubplot at 0x186b1a43da0>"
      ]
     },
     "execution_count": 24,
     "metadata": {},
     "output_type": "execute_result"
    },
    {
     "data": {
      "image/png": "[encoded data removed]",
      "text/plain": [
       "<matplotlib.figure.Figure at 0x186b2acb588>"
      ]
     },
     "metadata": {},
     "output_type": "display_data"
    }
   ],
   "source": [
    "df.groupby(['Day',pd.Grouper(freq='D',key='DateTime')]).size().groupby('Day').mean().plot()"
   ]
  },
  {
   "cell_type": "markdown",
   "metadata": {},
   "source": [
    "No observable tendency in the days across the month."
   ]
  },
  {
   "cell_type": "markdown",
   "metadata": {},
   "source": [
    "Breaking down events by outcome type."
   ]
  },
  {
   "cell_type": "code",
   "execution_count": 25,
   "metadata": {},
   "outputs": [
    {
     "data": {
      "text/plain": [
       "<matplotlib.axes._subplots.AxesSubplot at 0x186b2c09278>"
      ]
     },
     "execution_count": 25,
     "metadata": {},
     "output_type": "execute_result"
    },
    {
     "data": {
      "image/png": "[encoded data removed]",
      "text/plain": [
       "<matplotlib.figure.Figure at 0x186b2c6d400>"
      ]
     },
     "metadata": {},
     "output_type": "display_data"
    }
   ],
   "source": [
    "data_counts = df['OutcomeType'].value_counts()\n",
    "pd.DataFrame(data_counts).transpose().plot(kind='barh', stacked=True)"
   ]
  },
  {
   "cell_type": "code",
   "execution_count": 26,
   "metadata": {},
   "outputs": [
    {
     "data": {
      "text/plain": [
       "<matplotlib.axes._subplots.AxesSubplot at 0x186b2d39208>"
      ]
     },
     "execution_count": 26,
     "metadata": {},
     "output_type": "execute_result"
    },
    {
     "data": {
      "image/png": "[encoded data removed]",
      "text/plain": [
       "<matplotlib.figure.Figure at 0x186b2cdb898>"
      ]
     },
     "metadata": {},
     "output_type": "display_data"
    }
   ],
   "source": [
    "pd.DataFrame(gbw['OutcomeType'].value_counts()).unstack().plot(kind='barh',stacked=True)"
   ]
  },
  {
   "cell_type": "code",
   "execution_count": 27,
   "metadata": {},
   "outputs": [
    {
     "data": {
      "text/plain": [
       "<matplotlib.axes._subplots.AxesSubplot at 0x186b2d4f5c0>"
      ]
     },
     "execution_count": 27,
     "metadata": {},
     "output_type": "execute_result"
    },
    {
     "data": {
      "image/png": "[encoded data removed]",
      "text/plain": [
       "<matplotlib.figure.Figure at 0x186b2da6eb8>"
      ]
     },
     "metadata": {},
     "output_type": "display_data"
    }
   ],
   "source": [
    "grouped = df.groupby(['Weekday','OutcomeType']).size().unstack()\n",
    "grouped.sort_values(by=0,axis=1,ascending=False).plot(kind='barh',stacked=True, width=0.98)"
   ]
  },
  {
   "cell_type": "markdown",
   "metadata": {},
   "source": [
    "Or in the normalized form"
   ]
  },
  {
   "cell_type": "code",
   "execution_count": 28,
   "metadata": {},
   "outputs": [
    {
     "data": {
      "text/plain": [
       "<matplotlib.axes._subplots.AxesSubplot at 0x186b2f50e80>"
      ]
     },
     "execution_count": 28,
     "metadata": {},
     "output_type": "execute_result"
    },
    {
     "data": {
      "image/png": "[encoded data removed]",
      "text/plain": [
       "<matplotlib.figure.Figure at 0x186b2ef2f98>"
      ]
     },
     "metadata": {},
     "output_type": "display_data"
    }
   ],
   "source": [
    "grouped = df.groupby(['Weekday','OutcomeType']).size().unstack()\n",
    "grouped.div(grouped.sum(axis=1),axis=0).sort_values(by=0,axis=1,ascending=False).plot(kind='barh',stacked=True, width=0.98)"
   ]
  },
  {
   "cell_type": "markdown",
   "metadata": {},
   "source": [
    "It becomes clear that on weekends the number of adoptions increase significantly ant the number of transfers decrease slightly. The net result is that the number of events is greatly affected by the number of adoptions. Once again, maybe on weekends, the number of fairs and visits to the shelter increase."
   ]
  },
  {
   "cell_type": "markdown",
   "metadata": {},
   "source": [
    "## Clustering the data [Why?  Just, WHY???]"
   ]
  },
  {
   "cell_type": "markdown",
   "metadata": {},
   "source": [
    "## Naive Bayes Modelling [Oh yeah, now you are beginning to think straight!]"
   ]
  },
  {
   "cell_type": "markdown",
   "metadata": {},
   "source": [
    "~~First, we transform our data frame to numerical~~<br>\n",
    "~~Nevermind R, need to learn how to do things the python way.~~<br>\n",
    "Yeyyy, rework! Turns out that making calculations using pandas is sooo slow. How about good old handcrafting (numpy)?"
   ]
  },
  {
   "cell_type": "markdown",
   "metadata": {},
   "source": [
    "Let's preprocess the data a little bit more to fit into the naive bayes problem"
   ]
  },
  {
   "cell_type": "markdown",
   "metadata": {},
   "source": [
    "First, let's preprocess the data a little bit more to turn it into numerical and then use numpy from now on"
   ]
  },
  {
   "cell_type": "code",
   "execution_count": 29,
   "metadata": {
    "collapsed": true
   },
   "outputs": [],
   "source": [
    "sao = df.copy()\n",
    "sao = sao.drop(['AnimalID','DateTime','OutcomeSubtype','Breed','Color'],axis=1)\n",
    "sao['Name'] = df['Name']!='Unknown'\n",
    "sao['Name'] = sao['Name'].astype('category')\n",
    "sao['AgeuponOutcome'] = sao['AgeuponOutcome'].astype('int')\n",
    "saocolumns = np.array(sao.columns)\n",
    "saocats = {}\n",
    "for column in saocolumns:\n",
    "    if str(sao[column].dtype) != \"category\":\n",
    "        sao[column] = sao[column].astype('category')\n",
    "    saocats[column] = dict(enumerate(sao[column].cat.categories))\n",
    "sao = sao.apply(lambda x: x.cat.codes.astype('int'))\n",
    "sao = sao.values"
   ]
  },
  {
   "cell_type": "markdown",
   "metadata": {},
   "source": [
    "Some convenient functions, since we don't have most of pandas features"
   ]
  },
  {
   "cell_type": "markdown",
   "metadata": {},
   "source": [
    "Work with str label"
   ]
  },
  {
   "cell_type": "code",
   "execution_count": 30,
   "metadata": {
    "collapsed": true
   },
   "outputs": [],
   "source": [
    "def pos(label):\n",
    "    if type(label) == str: label=[label]\n",
    "    res = np.empty(0)\n",
    "    for element in label:\n",
    "        res = np.append(res,np.where(np.array(saocolumns) == element))\n",
    "    return res.astype('int')"
   ]
  },
  {
   "cell_type": "code",
   "execution_count": 31,
   "metadata": {},
   "outputs": [
    {
     "data": {
      "text/plain": [
       "array([1])"
      ]
     },
     "execution_count": 31,
     "metadata": {},
     "output_type": "execute_result"
    }
   ],
   "source": [
    "pos(['Breed','OutcomeType'])"
   ]
  },
  {
   "cell_type": "markdown",
   "metadata": {},
   "source": [
    "Then we separate a train and test set"
   ]
  },
  {
   "cell_type": "code",
   "execution_count": 32,
   "metadata": {
    "collapsed": true
   },
   "outputs": [],
   "source": [
    "np.random.seed(555)\n",
    "samples_train = np.sort(np.random.choice(len(df),int(np.rint(0.8*len(df))),replace=False))\n",
    "samples_test = np.delete(np.arange(len(df)),samples_train)\n",
    "saotrain = sao[samples_train,:]\n",
    "saotest = sao[samples_test,:]\n",
    "saolen = sao.shape[0] # This is mostly a convenience to use for loops\n",
    "saotrainlen = saotrain.shape[0] # This is mostly a convenience to use for loops\n",
    "saotestlen = saotest.shape[0] # This is mostly a convenience to use for loops"
   ]
  },
  {
   "cell_type": "markdown",
   "metadata": {
    "collapsed": true
   },
   "source": [
    "### Naive Bayes\n",
    "First, we calculate the probabilities of the target values."
   ]
  },
  {
   "cell_type": "code",
   "execution_count": 33,
   "metadata": {},
   "outputs": [
    {
     "name": "stdout",
     "output_type": "stream",
     "text": [
      "[ 0.402235  0.007155  0.057709  0.179395  0.353505]\n"
     ]
    }
   ],
   "source": [
    "Pt = np.unique(saotrain[:,pos('OutcomeType')],return_counts=True)[1]/saotrainlen # Prob. target\n",
    "print(Pt)"
   ]
  },
  {
   "cell_type": "markdown",
   "metadata": {},
   "source": [
    "Now we calculate the conditional probabilities for name. \n",
    "$$P(Feature \\mid Target) = \\frac{P(Feature \\cap Target)}{P(Target)}$$\n",
    "e.g.\n",
    "$$P(Name=T \\mid Outcome=Adoption) = \\frac{P(T \\cap Adoption)}{P(Adoption)}$$\n",
    "Let's concuct a full analysis from here."
   ]
  },
  {
   "cell_type": "code",
   "execution_count": 34,
   "metadata": {
    "collapsed": true
   },
   "outputs": [],
   "source": [
    "Pname = np.ones([len(saocats['Name']),len(saocats['OutcomeType'])])\n",
    "for idi in saocats['Name']:\n",
    "    for idj in saocats['OutcomeType']:\n",
    "        Pname[idi,idj] = np.sum(np.logical_and(saotrain[:,pos('Name')] == idi,saotrain[:,pos('OutcomeType')] == idj)).ravel()\n",
    "Pname = Pname/np.sum(Pname,axis=0) # to divide along axis=1, Pname/np.sum(Pname,axis=1)[:,np.newaxis]"
   ]
  },
  {
   "cell_type": "code",
   "execution_count": 35,
   "metadata": {},
   "outputs": [
    {
     "name": "stdout",
     "output_type": "stream",
     "text": [
      "[[ 0.154052  0.640523  0.532415  0.031283  0.52282 ]\n",
      " [ 0.845948  0.359477  0.467585  0.968717  0.47718 ]]\n"
     ]
    }
   ],
   "source": [
    "print(Pname)"
   ]
  },
  {
   "cell_type": "markdown",
   "metadata": {},
   "source": [
    "Obs. We always normalize to a fixed \"given that\". In this case, we normalize by assuming the outcome type constant, and slide along the name."
   ]
  },
  {
   "cell_type": "markdown",
   "metadata": {},
   "source": [
    "Then, $P(Outcome \\mid Name) = P(Outcome) P(Name \\mid Outcome)$"
   ]
  },
  {
   "cell_type": "code",
   "execution_count": 36,
   "metadata": {},
   "outputs": [
    {
     "data": {
      "text/plain": [
       "array([[ 0.215377,  0.01593 ,  0.106795,  0.019506,  0.642393],\n",
       "       [ 0.47771 ,  0.003611,  0.037883,  0.243976,  0.23682 ]])"
      ]
     },
     "execution_count": 36,
     "metadata": {},
     "output_type": "execute_result"
    }
   ],
   "source": [
    "P_Outcome_name = np.multiply(Pt,Pname)\n",
    "P_Outcome_name = np.divide(P_Outcome_name,P_Outcome_name.sum(axis=1)[:,np.newaxis])\n",
    "P_Outcome_name"
   ]
  },
  {
   "cell_type": "markdown",
   "metadata": {},
   "source": [
    "Obs. Same as above, we normalized to a fixed \"given that\". In this case, we give a fixed name and normalize it along the outcome type axis."
   ]
  },
  {
   "cell_type": "markdown",
   "metadata": {},
   "source": [
    "Interestingly enough, if the animal has a name, it will most likely be adopted, however, if it does not have a name, it will most likely be transfered. Weird and unexpected!"
   ]
  },
  {
   "cell_type": "markdown",
   "metadata": {},
   "source": [
    "Let's now wrap it all up together and create a function with features and data as inputs and outcome as outputs."
   ]
  },
  {
   "cell_type": "code",
   "execution_count": 37,
   "metadata": {
    "collapsed": true
   },
   "outputs": [],
   "source": [
    "def pTable(featurename,targetname,m=10,get_unique=False):\n",
    "    # This version uses no Python iterations, using only numpy iterations for efficiency gains!\n",
    "    temp = saotrain[:,pos([featurename,targetname])] # A two coumn array with input and target\n",
    "    ufeature = np.unique(saotrain[:,pos(featurename)]) # Unique features\n",
    "    utarget = np.unique(saotrain[:,pos(targetname)]) # Unique targets\n",
    "    lufeature = len(ufeature) # Ufeature length\n",
    "    lutarget = len(utarget) # Utarget length\n",
    "    # Adding all possible pairs to temp to include 0 length pairs when using np.unique(x,return_counts=True)\n",
    "    temp2 = np.repeat(ufeature,lutarget) # Creating a repeat vector [1,1,2,2]\n",
    "    temp2 = np.append(temp2,np.tile(utarget,lufeature)) # Creating a tile vector [1,2,1,2]\n",
    "    temp2 = temp2.reshape(int(len(temp2)/2),2,order='F') # Combining into a matrix[[1,1],[1,2],[2,1],[2,2]]\n",
    "    temp = np.append(temp,temp2,axis=0) # Appending to temp\n",
    "    t,c = np.unique(temp,axis=0,return_counts=True) # Counting unique pairs\n",
    "    # since np.unique does not deliver arrays in a sorted order\n",
    "    t = np.append(t,c[:,np.newaxis],axis=1) # Concatenating columns\n",
    "    t = t[t[:,1].argsort()] # Sort by second column\n",
    "    t = t[t[:,0].argsort(kind='mergesort')] # Sort by first column\n",
    "    # Voilà, the pivot table using only numpy is obtained by subtracting 1 from all counts\n",
    "    res = t[:,2].reshape(lufeature,lutarget)-1\n",
    "    res = np.divide((res + m*1/lufeature),(np.sum(res,axis=0)+m))\n",
    "    if get_unique:\n",
    "        return res, ufeature, utarget\n",
    "    else:\n",
    "        return res"
   ]
  },
  {
   "cell_type": "markdown",
   "metadata": {},
   "source": [
    "Generating pTables for all features"
   ]
  },
  {
   "cell_type": "code",
   "execution_count": 38,
   "metadata": {
    "collapsed": true
   },
   "outputs": [],
   "source": [
    "pTarget = Pt\n",
    "pTables = {}\n",
    "for column in saocolumns:\n",
    "    if column != 'OutcomeType':\n",
    "        pTables[column] = pTable(column,'OutcomeType')"
   ]
  },
  {
   "cell_type": "markdown",
   "metadata": {},
   "source": [
    "The main function to calculate the output probabilities.<br>\n",
    "BoK (Body of Knowledge): Iterating trough a data frame is faster using numpy"
   ]
  },
  {
   "cell_type": "code",
   "execution_count": 39,
   "metadata": {
    "collapsed": true
   },
   "outputs": [],
   "source": [
    "def bayes(features,targetname,m=10):\n",
    "    # TODO: Flexibilize for series and DF features\n",
    "    p=pTarget\n",
    "    for column in saocolumns:\n",
    "        if column != targetname:\n",
    "            p = np.multiply(p,pTables[column][features[pos(column)]])\n",
    "    p = np.divide(p,np.sum(p))\n",
    "    return p.ravel()"
   ]
  },
  {
   "cell_type": "markdown",
   "metadata": {},
   "source": [
    "Implementing the log loss metric"
   ]
  },
  {
   "cell_type": "code",
   "execution_count": 40,
   "metadata": {
    "collapsed": true
   },
   "outputs": [],
   "source": [
    "def logloss(pred,target):\n",
    "    tvec = np.zeros(len(pred),dtype='float_')\n",
    "    tvec[target] = 1.0\n",
    "    tres = 1.e-15*np.ones(len(pred))\n",
    "    pred = np.maximum(np.minimum(pred,1-tres),tres)\n",
    "    res =  -np.sum(tvec*np.log(pred))\n",
    "    return res\n",
    "def logloss2(pred,target):\n",
    "    tres = 1.e-15*np.ones(5)\n",
    "    res=0.0\n",
    "    for idi in range(len(target)):\n",
    "        tvec = np.zeros(5,dtype='float_')\n",
    "        tvec[target[idi]] = 1.0\n",
    "        pred[idi] = np.maximum(np.minimum(pred[idi],1-tres),tres)\n",
    "        res =  res - np.sum(tvec*np.log(pred[idi]))\n",
    "    res=res/len(pred)\n",
    "    return res"
   ]
  },
  {
   "cell_type": "markdown",
   "metadata": {},
   "source": [
    "Calculating accuracy"
   ]
  },
  {
   "cell_type": "code",
   "execution_count": 41,
   "metadata": {},
   "outputs": [
    {
     "name": "stdout",
     "output_type": "stream",
     "text": [
      "Right: 63.1202 %\n",
      "Loss: 0.9190\n",
      "Wall time: 11.6 s\n"
     ]
    }
   ],
   "source": [
    "%%time\n",
    "right = 0\n",
    "loss = 0.\n",
    "target = 'OutcomeType'\n",
    "res2 = np.zeros([len(saotrain),5])\n",
    "for idi in range(len(saotrain)):\n",
    "    features = saotrain[idi]\n",
    "    res = bayes(features,target)\n",
    "    res2[idi]=res\n",
    "    if np.argmax(res) == features[pos(target)]:\n",
    "        right+=1\n",
    "    loss = loss+logloss(res,features[pos(target)])\n",
    "loss = loss/len(saotrain)\n",
    "print('Right: {0:.4f} %'.format(right/len(saotrain)*100))\n",
    "print('Loss: {0:.4f}'.format(loss))"
   ]
  },
  {
   "cell_type": "code",
   "execution_count": 66,
   "metadata": {},
   "outputs": [
    {
     "data": {
      "text/plain": [
       "0.9190288951090021"
      ]
     },
     "execution_count": 66,
     "metadata": {},
     "output_type": "execute_result"
    }
   ],
   "source": [
    "logloss2(res2,saotrain[:,pos('OutcomeType')])"
   ]
  },
  {
   "cell_type": "code",
   "execution_count": 42,
   "metadata": {},
   "outputs": [
    {
     "name": "stdout",
     "output_type": "stream",
     "text": [
      "Right: 63.1687 %\n",
      "Loss: 0.9471\n",
      "Wall time: 2.92 s\n"
     ]
    }
   ],
   "source": [
    "%%time\n",
    "right = 0\n",
    "target = 'OutcomeType'\n",
    "for idi in range(len(saotest)):\n",
    "    features = saotest[idi]\n",
    "    res = bayes(features,target)\n",
    "    if np.argmax(res) == features[pos(target)]:\n",
    "        right+=1\n",
    "    loss = loss+logloss(res,features[pos(target)])\n",
    "loss = loss/len(saotest)\n",
    "print('Right: {0:.4f} %'.format(right/len(saotest)*100))\n",
    "print('Loss: {0:.4f}'.format(loss))"
   ]
  },
  {
   "cell_type": "markdown",
   "metadata": {},
   "source": [
    "## Geneerating the competition file"
   ]
  },
  {
   "cell_type": "code",
   "execution_count": 43,
   "metadata": {
    "collapsed": true
   },
   "outputs": [],
   "source": [
    "dfs = pd.read_csv('animal_test.csv')"
   ]
  },
  {
   "cell_type": "code",
   "execution_count": 44,
   "metadata": {},
   "outputs": [
    {
     "data": {
      "text/plain": [
       "(11456, 8)"
      ]
     },
     "execution_count": 44,
     "metadata": {},
     "output_type": "execute_result"
    }
   ],
   "source": [
    "dfs.shape"
   ]
  },
  {
   "cell_type": "code",
   "execution_count": 45,
   "metadata": {
    "collapsed": true
   },
   "outputs": [],
   "source": [
    "dfs['Day'] = pd.DatetimeIndex(dfs['DateTime']).day\n",
    "dfs['Month'] = pd.DatetimeIndex(dfs['DateTime']).month\n",
    "dfs['Year'] = pd.DatetimeIndex(dfs['DateTime']).year\n",
    "dfs['Weekday'] = pd.DatetimeIndex(dfs['DateTime']).weekday"
   ]
  },
  {
   "cell_type": "code",
   "execution_count": 46,
   "metadata": {},
   "outputs": [
    {
     "name": "stdout",
     "output_type": "stream",
     "text": [
      "ID False 0\n",
      "Name True 3225\n",
      "DateTime False 0\n",
      "AnimalType False 0\n",
      "SexuponOutcome False 0\n",
      "AgeuponOutcome True 6\n",
      "Breed False 0\n",
      "Color False 0\n",
      "Day False 0\n",
      "Month False 0\n",
      "Year False 0\n",
      "Weekday False 0\n"
     ]
    }
   ],
   "source": [
    "for label in dfs.columns:\n",
    "    print(label,True in np.array(pd.isnull(dfs[label])), len(dfs[label][pd.isnull(dfs[label])]))"
   ]
  },
  {
   "cell_type": "code",
   "execution_count": 47,
   "metadata": {
    "collapsed": true
   },
   "outputs": [],
   "source": [
    "dfs.Name = dfs.Name.fillna('Unknown')\n",
    "dfs.AgeuponOutcome = dfs.AgeuponOutcome.fillna('0 days')"
   ]
  },
  {
   "cell_type": "code",
   "execution_count": 48,
   "metadata": {
    "collapsed": true
   },
   "outputs": [],
   "source": [
    "# Transforming age upon outcome to numeric (days) todo: make it using datetime time ranges\n",
    "temp = np.zeros(len(dfs))\n",
    "for idi in range(len(dfs)):\n",
    "    [a,b] = dfs.AgeuponOutcome[idi].split()\n",
    "    a = int(a)\n",
    "    if b == 'day' or b == 'days':\n",
    "        temp[idi] = a\n",
    "    elif b == 'week' or b == 'weeks':\n",
    "        temp[idi] = a*7\n",
    "    elif b == 'month' or b == 'months':\n",
    "        temp[idi] = a*30 # Yeah, for the sake of int, a month has 30 days\n",
    "    elif b == 'year' or b == 'years':\n",
    "        temp[idi] = a*365\n",
    "dfs.AgeuponOutcome = temp"
   ]
  },
  {
   "cell_type": "code",
   "execution_count": 49,
   "metadata": {
    "collapsed": true
   },
   "outputs": [],
   "source": [
    "saos = dfs.copy()\n",
    "saos = saos.drop(['ID','DateTime','Breed','Color'],axis=1)\n",
    "temp = np.zeros(len(saos))\n",
    "saos.insert(loc=1,column='OutcomeType',value=temp)\n",
    "saos['Name'] = dfs['Name']!='Unknown'\n",
    "saos['AgeuponOutcome'] = saos['AgeuponOutcome'].astype('int')\n",
    "saoscolumns = np.array(saos.columns)\n",
    "saoscats = {}\n",
    "for column in saoscolumns:\n",
    "    saos[column] = saos[column].astype('category')\n",
    "    saoscats[column] = dict(enumerate(saos[column].cat.categories))\n",
    "saos = saos.apply(lambda x: x.cat.codes.astype('int'))\n",
    "#idi = 0\n",
    "#column = saoscolumns[idi]\n",
    "#print(column)\n",
    "#print(saoscats[column])\n",
    "#column = saocolumns[idi]\n",
    "#print(saocats[column])\n",
    "saos = saos.values\n",
    "saos[np.where(saos[:,4]==43),4] = 42 # There are two animals with novel ages 22y, lets assume they are20 y.o."
   ]
  },
  {
   "cell_type": "code",
   "execution_count": 50,
   "metadata": {},
   "outputs": [
    {
     "name": "stdout",
     "output_type": "stream",
     "text": [
      "Wall time: 4.88 s\n"
     ]
    }
   ],
   "source": [
    "%%time\n",
    "ans = np.zeros([len(saos),5])\n",
    "target = 'OutcomeType'\n",
    "for idi in range(len(saos)):\n",
    "    features = saos[idi]\n",
    "    ans[idi] = bayes(features,target)"
   ]
  },
  {
   "cell_type": "code",
   "execution_count": 51,
   "metadata": {
    "collapsed": true
   },
   "outputs": [],
   "source": [
    "submit = pd.DataFrame(ans,columns=saocats['OutcomeType'].values())\n",
    "submit.index += 1\n",
    "submit.index.name = 'ID'"
   ]
  },
  {
   "cell_type": "code",
   "execution_count": 52,
   "metadata": {
    "collapsed": true
   },
   "outputs": [],
   "source": [
    "submit.to_csv('animal_submission.csv')"
   ]
  },
  {
   "cell_type": "code",
   "execution_count": 53,
   "metadata": {},
   "outputs": [
    {
     "data": {
      "text/plain": [
       "0.08949081521942459"
      ]
     },
     "execution_count": 53,
     "metadata": {},
     "output_type": "execute_result"
    }
   ],
   "source": [
    "temp = df.copy()\n",
    "count = 0\n",
    "for string in temp['Breed']:\n",
    "    #if ('Mix' in string) | ('/' in string):\n",
    "    if 'Pit Bull' in string:\n",
    "        count += 1\n",
    "count/len(temp)  "
   ]
  }
 ],
 "metadata": {
  "kernelspec": {
   "display_name": "Python 3",
   "language": "python",
   "name": "python3"
  },
  "language_info": {
   "codemirror_mode": {
    "name": "ipython",
    "version": 3
   },
   "file_extension": ".py",
   "mimetype": "text/x-python",
   "name": "python",
   "nbconvert_exporter": "python",
   "pygments_lexer": "ipython3",
   "version": "3.6.3"
  }
 },
 "nbformat": 4,
 "nbformat_minor": 2
}
