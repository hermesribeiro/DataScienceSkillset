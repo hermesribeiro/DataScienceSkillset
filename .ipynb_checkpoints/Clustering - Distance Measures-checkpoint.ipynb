{
 "cells": [
  {
   "cell_type": "markdown",
   "metadata": {},
   "source": [
    "# Clustering\n",
    "In this series, we intend to provide implementations of the methods and algorithms described by [Rokach and Maimon 2005, ch 15](http://www.springer.com/us/book/9780387254654). First we design functions to calculate these metrics for understanding purposes. We show their SciPy counterparts by the end of this notebook."
   ]
  },
  {
   "cell_type": "markdown",
   "metadata": {},
   "source": [
    "## Distance measure (dissimilarity)"
   ]
  },
  {
   "cell_type": "markdown",
   "metadata": {},
   "source": [
    "This notebook intends to provide functions to calculate distance (dissimilarity) and similarity between p-dimensional instances.\n",
    "\n",
    "---"
   ]
  },
  {
   "cell_type": "markdown",
   "metadata": {},
   "source": [
    "First we declare some toy instances in order to test our methods"
   ]
  },
  {
   "cell_type": "code",
   "execution_count": 1,
   "metadata": {},
   "outputs": [],
   "source": [
    "import numpy as np\n",
    "from numpy import linalg as LA\n",
    "# numeric attributes\n",
    "num1 = np.array([0.12,0.34,0.56,0.78,0.90])\n",
    "num2 = np.array([0.09,0.78,0.65,0.43,0.21])\n",
    "# binary attributes\n",
    "bin1 = [True,False,False,True,True]\n",
    "bin2 = [True,False,True,True,False]\n",
    "# nominal attributes\n",
    "nom1 = [\"green\",\"blue\",\"green\",\"red\",\"blue\"]\n",
    "nom2 = [\"red\",\"blue\",\"red\",\"red\",\"green\"]\n",
    "# mixed type attributes\n",
    "mix1 = [\"green\",True,False,0.53,\"red\"]\n",
    "mix2 = [\"blue\",True,True,0.64,\"red\"]"
   ]
  },
  {
   "cell_type": "markdown",
   "metadata": {},
   "source": [
    "### Minkowski: Distance Measures for Numeric Attributes\n",
    "For the numeric attributes, we consider the Minkowski distance\n",
    "$$d(x_i,x_j)=\\left(\\sum_{n=1}^p \\mid x_{1,n}-x_{2,n} \\mid ^q \\right)^{1/q}$$"
   ]
  },
  {
   "cell_type": "code",
   "execution_count": 2,
   "metadata": {},
   "outputs": [],
   "source": [
    "def mink(x1,x2,g):\n",
    "    if len(x1)!=len(x2): return None\n",
    "    res=np.sum(abs(x1-x2)**g)**(1/g)\n",
    "    return res"
   ]
  },
  {
   "cell_type": "markdown",
   "metadata": {},
   "source": [
    "Which results in:"
   ]
  },
  {
   "cell_type": "code",
   "execution_count": 3,
   "metadata": {},
   "outputs": [
    {
     "name": "stdout",
     "output_type": "stream",
     "text": [
      "manhattan distance =  1.6\n",
      "euclidean distance =  0.895097760024\n",
      "Chesbychev distance ~=  0.69\n"
     ]
    }
   ],
   "source": [
    "print(\"manhattan distance = \",mink(num1,num2,1))\n",
    "print(\"euclidean distance = \", mink(num1,num2,2))\n",
    "print(\"Chebychev distance ~= \", mink(num1,num2,1000))"
   ]
  },
  {
   "cell_type": "markdown",
   "metadata": {},
   "source": [
    "### Distance Metrics for Ordinal Attributes\n",
    "For ordinal atributes, it suffices to normalize the values using:\n",
    "$$z_{i,j}=\\frac{r_{i,n}-1}{M_n-1}$$\n",
    "where $z_{i,n}$ is the standardized value of the attribute, $r_{i,n}$ is this value before standardization and $M_n$ is the upper limit of the domain of attribute $a_n$, assuming the lower limit is $1$.\n",
    "The one should proceed using the minkowsky distance.  \n",
    "However, I propose one correction to this formula. Since ordinal values are usually presented in decreasing order of positioning (e.g. rankings, queues etc.) the lower the value, the higher its position. Therefore, the value should be normalized to the $[0,1]$ domain using:\n",
    "$$z_{i,j}=1-\\frac{r_{i,n}-1}{M_n-1}$$"
   ]
  },
  {
   "cell_type": "markdown",
   "metadata": {},
   "source": [
    "### Distance Measures for Binary Attributes\n",
    "For the binary attributes we consider the matching coefficient.\n",
    "First, we generate the contingency table  "
   ]
  },
  {
   "cell_type": "code",
   "execution_count": 4,
   "metadata": {},
   "outputs": [],
   "source": [
    "def contTable(x1,x2):\n",
    "    if len(x1)!=len(x2): return None\n",
    "    q=r=s=t=0\n",
    "    for idx in range(len(x1)):\n",
    "        if x1[idx] and x2[idx]:\n",
    "            q+=1\n",
    "        elif x1[idx]:\n",
    "            r+=1\n",
    "        elif x2[idx]:\n",
    "            s+=1\n",
    "        else:\n",
    "            t+=1\n",
    "    res = [q,r,s,t]\n",
    "    return res"
   ]
  },
  {
   "cell_type": "markdown",
   "metadata": {},
   "source": [
    "Then we can calculate the matching coefficient as\n",
    "$$d(x_i,x_j)=\\frac{r+s}{q+r+s+t}$$"
   ]
  },
  {
   "cell_type": "code",
   "execution_count": 5,
   "metadata": {},
   "outputs": [],
   "source": [
    "def matCoef(x1,x2):\n",
    "    [q,r,s,t]=contTable(bin1,bin2)\n",
    "    res=(r+s)/(q+r+s+t)\n",
    "    return res"
   ]
  },
  {
   "cell_type": "markdown",
   "metadata": {},
   "source": [
    "Which results in:"
   ]
  },
  {
   "cell_type": "code",
   "execution_count": 6,
   "metadata": {},
   "outputs": [
    {
     "name": "stdout",
     "output_type": "stream",
     "text": [
      "Matching coefficient =  0.4\n"
     ]
    }
   ],
   "source": [
    "print(\"Matching coefficient = \", matCoef(bin1,bin2))"
   ]
  },
  {
   "cell_type": "markdown",
   "metadata": {},
   "source": [
    "### Distance Measures for Nominal Attributes\n",
    "For the nominal attributes we use simple matching\n",
    "$$d(x_i,x_j)=\\frac{p-m}{p}$$"
   ]
  },
  {
   "cell_type": "code",
   "execution_count": 7,
   "metadata": {
    "collapsed": true
   },
   "outputs": [],
   "source": [
    "def simMatch(x1,x2):\n",
    "    if len(x1)!=len(x2): return None\n",
    "    m=0\n",
    "    p=len(x1)\n",
    "    for idx in range(p):\n",
    "        if x1[idx]==x2[idx]:\n",
    "            m+=1\n",
    "    res=(p-m)/p\n",
    "    return res"
   ]
  },
  {
   "cell_type": "markdown",
   "metadata": {},
   "source": [
    "Which results in:"
   ]
  },
  {
   "cell_type": "code",
   "execution_count": 8,
   "metadata": {},
   "outputs": [
    {
     "name": "stdout",
     "output_type": "stream",
     "text": [
      "Simple Match =  0.6\n"
     ]
    }
   ],
   "source": [
    "print(\"Simple Match = \",simMatch(nom1,nom2))"
   ]
  },
  {
   "cell_type": "markdown",
   "metadata": {},
   "source": [
    "### Distance Metrics for Mixed-Type Attributes\n",
    "Finally, for mixed type attributes we use the mixed type distance\n",
    "$$d(x_i,x_j)=\\frac{\\sum\\limits_{n=1}^p \\delta_{ij}^{(n)} d_{ij}^{(n)}}{\\sum\\limits_{n=1}^p \\delta_{ij}^{(n)}}$$\n",
    "where $\\delta_{ij}^{(n)}=0$ if one attribute is missing and $1$ otherwise. The distance $d_{ij}^{(n)}$ between the $n^{th}$ atribute of the instances depends on the type of attribute.\n",
    "* If categorical or binary, $d_{ij}^{(n)}=0$ if both values match and $0$ otherwise\n",
    "* If numeric, the distance $d_{ij}^{(n)}$ is the absolute difference between both values\n"
   ]
  },
  {
   "cell_type": "code",
   "execution_count": 9,
   "metadata": {
    "collapsed": true
   },
   "outputs": [],
   "source": [
    "def mixDis(x1,x2):\n",
    "    if len(x1)!=len(x2): return None\n",
    "    dij = np.zeros(len(x1))\n",
    "    delij = np.ones(len(x1))\n",
    "    for idx in range(len(dij)):\n",
    "        if type(x1[idx]) != type(x2[idx]): return None\n",
    "        if (type(x1[idx]) is str) or (type(x1[idx]) is bool):\n",
    "            dij[idx] = int(x1[idx] == x2[idx])\n",
    "        elif (type(x1[idx]) is int) or (type(x1[idx]) is float):\n",
    "            dij[idx] = abs(x1[idx]-x2[idx])\n",
    "        else:\n",
    "            delij[idx] = 0\n",
    "    res = delij.dot(dij)/np.sum(delij)\n",
    "    return res"
   ]
  },
  {
   "cell_type": "markdown",
   "metadata": {},
   "source": [
    "Which results in:"
   ]
  },
  {
   "cell_type": "code",
   "execution_count": 10,
   "metadata": {},
   "outputs": [
    {
     "name": "stdout",
     "output_type": "stream",
     "text": [
      "Mixed Distance =  0.422\n"
     ]
    }
   ],
   "source": [
    "print(\"Mixed Distance = \", mixDis(mix1,mix2))"
   ]
  },
  {
   "cell_type": "markdown",
   "metadata": {},
   "source": [
    "## Similarity functions\n",
    "As opposed to distance metrics, similarity functions should provide higher values if $x_1$ and $x_2$ are \"similar\"."
   ]
  },
  {
   "cell_type": "markdown",
   "metadata": {},
   "source": [
    "### Cosine Measure\n",
    "This metric evaluates the similarity as a function of the angle of vectors as opposed to their distance.\n",
    "$$s(x_i,x_j)=\\frac{x_i^T \\cdot x_j}{\\|x_i\\| \\cdot \\|x_j\\|}$$"
   ]
  },
  {
   "cell_type": "code",
   "execution_count": 11,
   "metadata": {
    "collapsed": true
   },
   "outputs": [],
   "source": [
    "def cosMeas(x1,x2):\n",
    "    if len(x1)!=len(x2): return None\n",
    "    res = x1.dot(x2)/(LA.norm(x1)*LA.norm(x2))\n",
    "    return res"
   ]
  },
  {
   "cell_type": "markdown",
   "metadata": {},
   "source": [
    "Which results in:"
   ]
  },
  {
   "cell_type": "code",
   "execution_count": 12,
   "metadata": {},
   "outputs": [
    {
     "name": "stdout",
     "output_type": "stream",
     "text": [
      "Cosine measure =  0.757796738324\n"
     ]
    }
   ],
   "source": [
    "print(\"Cosine measure = \",cosMeas(num1,num2))"
   ]
  },
  {
   "cell_type": "markdown",
   "metadata": {},
   "source": [
    "### Pearson correlation measure\n",
    "This metric uses the normalized Pearson correlation\n",
    "$$s(x_i,x_j)=\\frac{(x_i-\\bar x)^T \\cdot (x_j-\\bar x)}{\\|x_i-\\bar x\\| \\cdot \\|x_j-\\bar x\\|}$$"
   ]
  },
  {
   "cell_type": "code",
   "execution_count": 13,
   "metadata": {
    "collapsed": true
   },
   "outputs": [],
   "source": [
    "def pearCor(x1,x2):\n",
    "    res = np.dot((x1-x1.mean()),(x2-x2.mean()))/(LA.norm(x1-x1.mean())*LA.norm(x2-x2.mean()))\n",
    "    return res"
   ]
  },
  {
   "cell_type": "markdown",
   "metadata": {},
   "source": [
    "Which results in:"
   ]
  },
  {
   "cell_type": "code",
   "execution_count": 14,
   "metadata": {},
   "outputs": [
    {
     "name": "stdout",
     "output_type": "stream",
     "text": [
      "Pearson correlation =  -0.00543744287826\n"
     ]
    }
   ],
   "source": [
    "print(\"Pearson correlation = \", pearCor(num1,num2))"
   ]
  },
  {
   "cell_type": "markdown",
   "metadata": {},
   "source": [
    "### Extended Jaccard Measure\n",
    "The [Jaccard index](https://en.wikipedia.org/wiki/Jaccard_index) is a comparison of the similarity in the content of two sets, expressed as the intersection divided by the union.\n",
    "The extended Jaccard measure is given by:\n",
    "$$s(x_i,x_j)=\\frac{x_i^T \\cdot x_j}{\\|x_i\\|^2 + \\|x_j\\|^2 - x_i^T \\cdot x_j}$$"
   ]
  },
  {
   "cell_type": "code",
   "execution_count": 15,
   "metadata": {
    "collapsed": true
   },
   "outputs": [],
   "source": [
    "def extJac(x1,x2):\n",
    "    res = x1.dot(x2)/(LA.norm(x1)**2 + LA.norm(x2)**2 - x1.dot(x2))\n",
    "    return res"
   ]
  },
  {
   "cell_type": "markdown",
   "metadata": {},
   "source": [
    "Which gives us:"
   ]
  },
  {
   "cell_type": "code",
   "execution_count": 16,
   "metadata": {},
   "outputs": [
    {
     "name": "stdout",
     "output_type": "stream",
     "text": [
      "Extended Jaccard =  0.592389092389\n"
     ]
    }
   ],
   "source": [
    "print(\"Extended Jaccard = \", extJac(num1,num2))"
   ]
  },
  {
   "cell_type": "markdown",
   "metadata": {},
   "source": [
    "### Dice Coefficient\n",
    "The [Dice coefficient](https://en.wikipedia.org/wiki/S%C3%B8rensen%E2%80%93Dice_coefficient) is similar to the Jaccard measure, except that it is semimetric because it doesn't satisfy the triangle inequalty.\n",
    "$$s(x_i,x_j)=\\frac{2 x_i^T \\cdot x_j}{\\|x_i\\|^2 + \\|x_j\\|^2}$$"
   ]
  },
  {
   "cell_type": "code",
   "execution_count": 17,
   "metadata": {
    "collapsed": true
   },
   "outputs": [],
   "source": [
    "def dicCoe(x1,x2):\n",
    "    res = 2*x1.dot(x2)/(LA.norm(x1)**2 + LA.norm(x2)**2)\n",
    "    return res"
   ]
  },
  {
   "cell_type": "markdown",
   "metadata": {},
   "source": [
    "Which gives us:"
   ]
  },
  {
   "cell_type": "code",
   "execution_count": 18,
   "metadata": {},
   "outputs": [
    {
     "name": "stdout",
     "output_type": "stream",
     "text": [
      "Dice coefficient =  0.744025559105\n"
     ]
    }
   ],
   "source": [
    "print(\"Dice coefficient = \", dicCoe(num1,num2))"
   ]
  },
  {
   "cell_type": "markdown",
   "metadata": {},
   "source": [
    "## Distance and Similarity using SciPy\n",
    "Most of the above distances are already implemented in [SciPy](https://docs.scipy.org/doc/scipy/reference/spatial.distance.html) and we provide a list of them below."
   ]
  },
  {
   "cell_type": "code",
   "execution_count": 37,
   "metadata": {},
   "outputs": [
    {
     "name": "stdout",
     "output_type": "stream",
     "text": [
      "manhattan distance =  1.6\n",
      "euclidean distance =  0.89509776002401\n",
      "Chebychev distance =  0.69\n",
      "Minkowsky distance =  0.770444450219\n",
      "Hamming distance (matCoef) =  0.4\n",
      "Simple Match =  0.6\n",
      "Mixed Distance =  NA\n",
      "Cosine measure =  0.757796738324\n",
      "Pearson correlation =  -0.00543744287826\n",
      "Jaccard (bool only) =  0.5\n",
      "Dice coefficient (bool only)=  0.3333333333333333\n"
     ]
    }
   ],
   "source": [
    "from scipy.spatial import distance as spd\n",
    "print(\"manhattan distance = \",spd.cityblock(num1,num2))\n",
    "print(\"euclidean distance = \", spd.euclidean(num1,num2))\n",
    "print(\"Chebychev distance = \", spd.chebyshev(num1,num2))\n",
    "print(\"Minkowsky distance = \", spd.minkowski(num1,num2,3))\n",
    "print(\"Hamming distance (matCoef) = \", spd.hamming(bin1,bin2))\n",
    "print(\"Simple Match = \",spd.hamming(nom1,nom2))\n",
    "print(\"Mixed Distance = \",\"NA\")\n",
    "print(\"Cosine measure = \",1 - spd.cosine(num1,num2))\n",
    "print(\"Pearson correlation = \", 1 - spd.correlation(num1,num2))\n",
    "print(\"Jaccard (bool only) = \", spd.jaccard(bin1,bin2))\n",
    "print(\"Dice coefficient (bool only)= \", spd.dice(bin1,bin2))"
   ]
  }
 ],
 "metadata": {
  "kernelspec": {
   "display_name": "Python 3",
   "language": "python",
   "name": "python3"
  },
  "language_info": {
   "codemirror_mode": {
    "name": "ipython",
    "version": 3
   },
   "file_extension": ".py",
   "mimetype": "text/x-python",
   "name": "python",
   "nbconvert_exporter": "python",
   "pygments_lexer": "ipython3",
   "version": "3.6.3"
  }
 },
 "nbformat": 4,
 "nbformat_minor": 2
}
