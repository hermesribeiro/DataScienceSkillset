{
 "cells": [
  {
   "cell_type": "markdown",
   "metadata": {},
   "source": [
    "# Clustering\n",
    "In this series, we intend to provide implementations of the methods and algorithms described by [Rokach and Maimon 2005, ch 15](http://www.springer.com/us/book/9780387254654). Although these routines can be found on available packages like SciPy, the routines below are for educational purposes."
   ]
  },
  {
   "cell_type": "markdown",
   "metadata": {},
   "source": [
    "## Clustering Methods\n",
    "In this notebook we cover the topic of effectively grouping the data into clusters."
   ]
  },
  {
   "cell_type": "markdown",
   "metadata": {},
   "source": [
    "### Hierarchical methods\n",
    "Agglomerative hierarchical clustering — Each object initially represents a cluster of its own. Then clusters are successively merged until the desired cluster structure is obtained."
   ]
  },
  {
   "cell_type": "code",
   "execution_count": 1,
   "metadata": {},
   "outputs": [
    {
     "data": {
      "text/plain": [
       "['DESCR', 'data', 'feature_names', 'target', 'target_names']"
      ]
     },
     "execution_count": 1,
     "metadata": {},
     "output_type": "execute_result"
    }
   ],
   "source": [
    "import numpy as np\n",
    "import scipy.spatial.distance as spd\n",
    "from sklearn import datasets\n",
    "import scipy.cluster.hierarchy as hier\n",
    "import matplotlib.pyplot as plt\n",
    "iris = datasets.load_iris()\n",
    "dir(iris)"
   ]
  },
  {
   "cell_type": "markdown",
   "metadata": {},
   "source": [
    "We calculate the distance between clusters"
   ]
  },
  {
   "cell_type": "code",
   "execution_count": 2,
   "metadata": {
    "collapsed": true
   },
   "outputs": [],
   "source": [
    "def cDistance(data,c1,c2,distance=spd.euclidean,method=\"min\"):\n",
    "    import scipy.spatial.distance as spd\n",
    "    if method == \"max\":\n",
    "        dist = np.zeros([len(c1),len(c2)])\n",
    "        for idi in range(len(c1)):\n",
    "            for idj in range(len(c2)):\n",
    "                dist[idi,idj] = distance(data[c1[idi]],data[c2[idj]])\n",
    "        res = np.max(dist)        \n",
    "    elif method == \"mean\":\n",
    "        c1 = np.mean(data[c1],axis=0)\n",
    "        c2 = np.mean(data[c2],axis=0)\n",
    "        res = distance(c1,c2)\n",
    "    else:\n",
    "        dist = np.zeros([len(c1),len(c2)])\n",
    "        for idi in range(len(c1)):\n",
    "            for idj in range(len(c2)):\n",
    "                dist[idi,idj] = distance(data[c1[idi]],data[c2[idj]])\n",
    "        res = np.min(dist)\n",
    "    return res"
   ]
  },
  {
   "cell_type": "markdown",
   "metadata": {},
   "source": [
    "Then we calculate the clustering"
   ]
  },
  {
   "cell_type": "code",
   "execution_count": 3,
   "metadata": {},
   "outputs": [],
   "source": [
    "def hClustering(data,distance=spd.euclidean,method=\"min\"):\n",
    "    import scipy.spatial.distance as spd\n",
    "    n = len(data) # I dont usually do this, but will try this it this time\n",
    "    lm = np.zeros([(n-1),4]) # Linkage Matrix\n",
    "    c = list(range(n)) # CLusters\n",
    "    c = [[c[i]] for i in c] # COnvert all entries into lists\n",
    "    cid = list(range(n)) #Cluster ID\n",
    "    for idi in range(n-1): # Iterate over all clusters\n",
    "        dist = float(\"inf\")*np.ones([n-idi,n-idi])\n",
    "        for idj in range(len(c)-1): # Find the clocest pair\n",
    "            for idk in range(idj+1,len(c)):\n",
    "                dist[idj,idk] = cDistance(data,c[idj],c[idk],distance=distance,method=method)\n",
    "        [idj,idk] = np.unravel_index(dist.argmin(),dist.shape)\n",
    "        if cid[idj] > cid[idk]: # Forces merging into the most recent (highest level) cluster\n",
    "            temp = idj\n",
    "            idj = idk\n",
    "            idk = temp\n",
    "        #Fills Linkage Matrix\n",
    "        lm[idi,0] = cid[idj]\n",
    "        lm[idi,1] = cid[idk]\n",
    "        lm[idi,2] = dist.min()\n",
    "        lm[idi,3] = len(c[idj])+len(c[idk])\n",
    "        c[idj].extend(c[idk])\n",
    "        del c[idk]\n",
    "        cid[idj] = (n+idi)\n",
    "        del cid[idk]\n",
    "    return lm"
   ]
  },
  {
   "cell_type": "code",
   "execution_count": 4,
   "metadata": {
    "scrolled": true
   },
   "outputs": [
    {
     "data": {
      "image/png": "[encoded data removed]",
      "text/plain": [
       "<matplotlib.figure.Figure at 0x220a7fe6400>"
      ]
     },
     "metadata": {},
     "output_type": "display_data"
    }
   ],
   "source": [
    "z = hClustering(iris.data[0:10])\n",
    "hier.dendrogram(z)\n",
    "plt.show()"
   ]
  },
  {
   "cell_type": "markdown",
   "metadata": {},
   "source": [
    "As you can see, this algorithm works, but is too slow (try using the whole iris dataset). Therefore, the same task may be accomplished by ```scipy.cluster.hierarchy``` in a much faster manner."
   ]
  },
  {
   "cell_type": "code",
   "execution_count": 5,
   "metadata": {},
   "outputs": [
    {
     "data": {
      "image/png": "[encoded data removed]",
      "text/plain": [
       "<matplotlib.figure.Figure at 0x220a80aab00>"
      ]
     },
     "metadata": {},
     "output_type": "display_data"
    }
   ],
   "source": [
    "import scipy.cluster.hierarchy as hier\n",
    "z = hier.linkage(iris.data[0:10])\n",
    "hier.dendrogram(z)\n",
    "plt.show()"
   ]
  },
  {
   "cell_type": "markdown",
   "metadata": {},
   "source": [
    "### K-means\n",
    "K means is a simple and intuitive method consisting of two steps. Initialize with the position central position of the clusters.\n",
    "\n",
    "* 1) Assign each observation to the nearest cluster\n",
    "* 2) Update the cluster center\n",
    "\n",
    "For simplicity, we will use predefined number of steps as the convergence criterion. "
   ]
  },
  {
   "cell_type": "code",
   "execution_count": 102,
   "metadata": {},
   "outputs": [],
   "source": [
    "def kMeans (data,n,niter = 100):\n",
    "    data = np.array(data)\n",
    "    label = len(data)*[0]\n",
    "    means = np.zeros([n,len(data[0])])\n",
    "    for idi in range(n):\n",
    "        means[idi] = data[np.random.randint(0,(len(data)))]\n",
    "    for idi in range(niter):\n",
    "        for idj in range(len(data)):\n",
    "            dist_old = float('Inf')\n",
    "            for idk in range(n):\n",
    "                dist_new = spd.euclidean(data[idj],means[idk])\n",
    "                if (dist_new < dist_old):\n",
    "                    label[idj] = idk\n",
    "                    dist_old = dist_new\n",
    "        for idk in range(n):\n",
    "            temp = data[np.array(label)==idk]\n",
    "            if len(temp) > 0: means[idk] = np.mean(temp,axis=0)\n",
    "    return label"
   ]
  },
  {
   "cell_type": "code",
   "execution_count": 104,
   "metadata": {},
   "outputs": [
    {
     "name": "stdout",
     "output_type": "stream",
     "text": [
      "62 38 50\n"
     ]
    }
   ],
   "source": [
    "temp = kMeans(iris.data,3)\n",
    "print(temp.count(0),temp.count(1),temp.count(2))"
   ]
  },
  {
   "cell_type": "markdown",
   "metadata": {},
   "source": [
    "### Honorable mentions\n",
    "This work by noo means intend to be exhaustive in clustering methods. Therefore we mention some worthy methods to be tested later on.\n",
    "* K-medoids\n",
    "* DBSCAN and AUTOCLASS\n",
    "* SOM (Some say it's deprecated, others say it is very good for high dimensional data visualization)\n",
    "* \n"
   ]
  }
 ],
 "metadata": {
  "kernelspec": {
   "display_name": "Python 3",
   "language": "python",
   "name": "python3"
  },
  "language_info": {
   "codemirror_mode": {
    "name": "ipython",
    "version": 3
   },
   "file_extension": ".py",
   "mimetype": "text/x-python",
   "name": "python",
   "nbconvert_exporter": "python",
   "pygments_lexer": "ipython3",
   "version": "3.6.1"
  }
 },
 "nbformat": 4,
 "nbformat_minor": 2
}
